{
  "nbformat": 4,
  "nbformat_minor": 0,
  "metadata": {
    "colab": {
      "name": "RNN_PlayGenerator.ipynb",
      "provenance": [],
      "collapsed_sections": [],
      "include_colab_link": true
    },
    "kernelspec": {
      "name": "python3",
      "display_name": "Python 3"
    },
    "accelerator": "GPU"
  },
  "cells": [
    {
      "cell_type": "markdown",
      "metadata": {
        "id": "view-in-github",
        "colab_type": "text"
      },
      "source": [
        "<a href=\"https://colab.research.google.com/github/Angeal13/Text_Generator_ML/blob/master/RNN_PlayGenerator.ipynb\" target=\"_parent\"><img src=\"https://colab.research.google.com/assets/colab-badge.svg\" alt=\"Open In Colab\"/></a>"
      ]
    },
    {
      "cell_type": "code",
      "metadata": {
        "id": "SvGtGmmvAtPE",
        "colab_type": "code",
        "colab": {}
      },
      "source": [
        "%tensorflow_version 2.x"
      ],
      "execution_count": 0,
      "outputs": []
    },
    {
      "cell_type": "code",
      "metadata": {
        "id": "UnzJZOh_AxYe",
        "colab_type": "code",
        "outputId": "a6d2985b-e2aa-4b34-98a4-6f84e9863704",
        "colab": {
          "base_uri": "https://localhost:8080/",
          "height": 34
        }
      },
      "source": [
        "import tensorflow as tf\n",
        "import keras\n",
        "from keras.preprocessing import *\n",
        "import os\n",
        "import numpy as np"
      ],
      "execution_count": 0,
      "outputs": [
        {
          "output_type": "stream",
          "text": [
            "Using TensorFlow backend.\n"
          ],
          "name": "stderr"
        }
      ]
    },
    {
      "cell_type": "code",
      "metadata": {
        "id": "WGdbF5wW51V1",
        "colab_type": "code",
        "outputId": "e731c07c-4a7d-4e4d-b720-e0cbd8f56d40",
        "colab": {
          "base_uri": "https://localhost:8080/",
          "height": 51
        }
      },
      "source": [
        "#DataSet\n",
        "path_to_file=tf.keras.utils.get_file('shakespeare.txt','https://storage.googleapis.com/download.tensorflow.org/data/shakespeare.txt')"
      ],
      "execution_count": 0,
      "outputs": [
        {
          "output_type": "stream",
          "text": [
            "Downloading data from https://storage.googleapis.com/download.tensorflow.org/data/shakespeare.txt\n",
            "1122304/1115394 [==============================] - 0s 0us/step\n"
          ],
          "name": "stdout"
        }
      ]
    },
    {
      "cell_type": "code",
      "metadata": {
        "id": "Oxn6bjIW64TU",
        "colab_type": "code",
        "colab": {}
      },
      "source": [
        "#Load One's own data\n",
        "#from google.colab import files\n",
        "#path_to_file=list(files.upload().keys())[0]"
      ],
      "execution_count": 0,
      "outputs": []
    },
    {
      "cell_type": "code",
      "metadata": {
        "id": "Ht5m9V6JN2l8",
        "colab_type": "code",
        "colab": {}
      },
      "source": [
        "#\n",
        "text=open(path_to_file,'rb').read().decode(encoding='utf-8')"
      ],
      "execution_count": 0,
      "outputs": []
    },
    {
      "cell_type": "code",
      "metadata": {
        "id": "GPc1xjpq7JMr",
        "colab_type": "code",
        "colab": {}
      },
      "source": [
        "vocab =sorted(set(text))\n",
        "#Creating a mapping from unique characters to indices\n",
        "char2idx={u:i for i, u in enumerate(vocab)}\n",
        "idx2char = np.array(vocab)\n",
        "#Create a function that turns the text into a list of integers\n",
        "def text_to_int(text):\n",
        "  return np.array([char2idx[c] for c in text])\n",
        "text_as_int=text_to_int(text)"
      ],
      "execution_count": 0,
      "outputs": []
    },
    {
      "cell_type": "code",
      "metadata": {
        "id": "1xO0HAZV5WcC",
        "colab_type": "code",
        "colab": {}
      },
      "source": [
        "#Fucntion goes Form int to text\n",
        "def int_to_text(ints):\n",
        "  try:\n",
        "    ints =ints.numpy()\n",
        "  except:\n",
        "    pass\n",
        "  return ''.join(idx2char[ints])"
      ],
      "execution_count": 0,
      "outputs": []
    },
    {
      "cell_type": "code",
      "metadata": {
        "id": "mrmIyaFjM0V0",
        "colab_type": "code",
        "colab": {}
      },
      "source": [
        "#Creating a training example\n",
        "#Create a len sequence to build the epoch\n",
        "seq_length=100\n",
        "examples_per_epoch=len(text)//(seq_length+1)\n",
        "\n",
        "#Creating a training targets\n",
        "char_dataset=tf.data.Dataset.from_tensor_slices(text_as_int)"
      ],
      "execution_count": 0,
      "outputs": []
    },
    {
      "cell_type": "code",
      "metadata": {
        "id": "NmAATjTYNBE5",
        "colab_type": "code",
        "colab": {}
      },
      "source": [
        "sequences=char_dataset.batch(seq_length+1,drop_remainder=True)"
      ],
      "execution_count": 0,
      "outputs": []
    },
    {
      "cell_type": "code",
      "metadata": {
        "id": "fphg4DkUOMIK",
        "colab_type": "code",
        "colab": {}
      },
      "source": [
        "#Create a fucntion that will build teh trainign blocks needed\n",
        "def split_input_target(chunk):\n",
        "  input_text = chunk[:-1]\n",
        "  target_text = chunk[1:]\n",
        "  return input_text,target_text\n",
        "\n",
        "dataset=sequences.map(split_input_target) #Use the fucntion on every entry through a map"
      ],
      "execution_count": 0,
      "outputs": []
    },
    {
      "cell_type": "code",
      "metadata": {
        "id": "WGNCT2ZkS72s",
        "colab_type": "code",
        "colab": {}
      },
      "source": [
        "#Make the Trainig Batches\n",
        "BATCH_SIZE= 64\n",
        "VOCAB_SIZE= len(vocab)\n",
        "EMBEDDING_DIM= 256\n",
        "RNN_UNITS=1024\n",
        "\n",
        "BUFFER_SIZE=10000\n",
        "\n",
        "data=dataset.shuffle(BUFFER_SIZE).batch(BATCH_SIZE,drop_remainder=True)"
      ],
      "execution_count": 0,
      "outputs": []
    },
    {
      "cell_type": "code",
      "metadata": {
        "id": "mnXMJKQhV6v-",
        "colab_type": "code",
        "outputId": "96506db6-e637-40d3-93eb-3bf3379fb01e",
        "colab": {
          "base_uri": "https://localhost:8080/",
          "height": 255
        }
      },
      "source": [
        "#Building the model Using a funcrion\n",
        "def build_model(vocab_size,embedding_dim,rnn_units, batch_size):\n",
        "  model=tf.keras.Sequential([\n",
        "    tf.keras.layers.Embedding(vocab_size,embedding_dim,batch_input_shape=[batch_size,None]),\n",
        "    tf.keras.layers.LSTM(rnn_units,\n",
        "                          return_sequences=True,\n",
        "                          stateful=True,\n",
        "                          recurrent_initializer='glorot_uniform'),\n",
        "    tf.keras.layers.Dense(vocab_size)\n",
        "  ])\n",
        "  return model\n",
        "\n",
        "model=build_model(VOCAB_SIZE,EMBEDDING_DIM,RNN_UNITS,BATCH_SIZE)\n",
        "model.summary()\n"
      ],
      "execution_count": 0,
      "outputs": [
        {
          "output_type": "stream",
          "text": [
            "Model: \"sequential\"\n",
            "_________________________________________________________________\n",
            "Layer (type)                 Output Shape              Param #   \n",
            "=================================================================\n",
            "embedding (Embedding)        (64, None, 256)           16640     \n",
            "_________________________________________________________________\n",
            "lstm (LSTM)                  (64, None, 1024)          5246976   \n",
            "_________________________________________________________________\n",
            "dense (Dense)                (64, None, 65)            66625     \n",
            "=================================================================\n",
            "Total params: 5,330,241\n",
            "Trainable params: 5,330,241\n",
            "Non-trainable params: 0\n",
            "_________________________________________________________________\n"
          ],
          "name": "stdout"
        }
      ]
    },
    {
      "cell_type": "code",
      "metadata": {
        "id": "SNdhNb5W8-08",
        "colab_type": "code",
        "colab": {}
      },
      "source": [
        "for input_example_batch, target_example_batch in data.take(1):\n",
        "  example_batch_predictions = model(input_example_batch) \n",
        "  pred = example_batch_predictions[0]"
      ],
      "execution_count": 0,
      "outputs": []
    },
    {
      "cell_type": "code",
      "metadata": {
        "id": "hFgBAeI04jlE",
        "colab_type": "code",
        "outputId": "7e92b9a6-bf22-4729-8ca2-5780d3a27c9a",
        "colab": {
          "base_uri": "https://localhost:8080/",
          "height": 34
        }
      },
      "source": [
        "sampled_indices= tf.random.categorical(pred,num_samples=1)\n",
        "\n",
        "sampled_indices=np.reshape(sampled_indices,(1,-1))[0]\n",
        "predicted_chars=int_to_text(sampled_indices)\n",
        "\n",
        "predicted_chars\n"
      ],
      "execution_count": 0,
      "outputs": [
        {
          "output_type": "execute_result",
          "data": {
            "text/plain": [
              "\"FpmptqBI:, izAD.XidQ,zmVySrhq!m,EnVRY3ExHIw&VSHr'Qg&JZ G\\nQk,EfdkFdR$&eEud EQdMZJvh'$d-jEh'CgKB'Q;qqw\""
            ]
          },
          "metadata": {
            "tags": []
          },
          "execution_count": 15
        }
      ]
    },
    {
      "cell_type": "code",
      "metadata": {
        "id": "iR6gCPK4wPsW",
        "colab_type": "code",
        "colab": {}
      },
      "source": [
        "def loss(labels,logits):\n",
        "  return tf.keras.losses.sparse_categorical_crossentropy(labels,logits,from_logits=True)"
      ],
      "execution_count": 0,
      "outputs": []
    },
    {
      "cell_type": "code",
      "metadata": {
        "id": "df9dpqog54xA",
        "colab_type": "code",
        "colab": {}
      },
      "source": [
        "model.compile(optimizer='adam',loss=loss)"
      ],
      "execution_count": 0,
      "outputs": []
    },
    {
      "cell_type": "code",
      "metadata": {
        "id": "DqvGMxUj7eMr",
        "colab_type": "code",
        "colab": {}
      },
      "source": [
        "checkpoint_dir='./training_checkpoints'\n",
        "\n",
        "checkpoint_prefix=os.path.join(checkpoint_dir,\"ckpt_{epoch}\")\n",
        "\n",
        "checkpoint_callback=tf.keras.callbacks.ModelCheckpoint(\n",
        "    filepath=checkpoint_prefix,\n",
        "    save_weights_only=True\n",
        ")"
      ],
      "execution_count": 0,
      "outputs": []
    },
    {
      "cell_type": "code",
      "metadata": {
        "id": "88EP9Z42T81g",
        "colab_type": "code",
        "outputId": "117c3775-aa7b-4fa4-c49b-7c95ba50cf68",
        "colab": {
          "base_uri": "https://localhost:8080/",
          "height": 357
        }
      },
      "source": [
        "#Trianing the model\n",
        "history=model.fit(data,epochs=10,callbacks=[checkpoint_callback])"
      ],
      "execution_count": 0,
      "outputs": [
        {
          "output_type": "stream",
          "text": [
            "Epoch 1/10\n",
            "172/172 [==============================] - 28s 161ms/step - loss: 1.1598\n",
            "Epoch 2/10\n",
            "172/172 [==============================] - 28s 162ms/step - loss: 1.1223\n",
            "Epoch 3/10\n",
            "172/172 [==============================] - 28s 163ms/step - loss: 1.0833\n",
            "Epoch 4/10\n",
            "172/172 [==============================] - 28s 163ms/step - loss: 1.0431\n",
            "Epoch 5/10\n",
            "172/172 [==============================] - 28s 162ms/step - loss: 1.0011\n",
            "Epoch 6/10\n",
            "172/172 [==============================] - 28s 163ms/step - loss: 0.9591\n",
            "Epoch 7/10\n",
            "172/172 [==============================] - 28s 162ms/step - loss: 0.9177\n",
            "Epoch 8/10\n",
            "172/172 [==============================] - 28s 162ms/step - loss: 0.8754\n",
            "Epoch 9/10\n",
            "172/172 [==============================] - 28s 163ms/step - loss: 0.8363\n",
            "Epoch 10/10\n",
            "172/172 [==============================] - 28s 162ms/step - loss: 0.7984\n"
          ],
          "name": "stdout"
        }
      ]
    },
    {
      "cell_type": "code",
      "metadata": {
        "colab_type": "code",
        "id": "KxAVSXv9e6hS",
        "colab": {}
      },
      "source": [
        "#Loading model\n",
        "model=build_model(VOCAB_SIZE,EMBEDDING_DIM,RNN_UNITS,batch_size=1)\n",
        "#Finding latest CheckPoint\n",
        "model.load_weights(tf.train.latest_checkpoint(checkpoint_dir))\n",
        "model.build(tf.TensorShape([1,None]))"
      ],
      "execution_count": 0,
      "outputs": []
    },
    {
      "cell_type": "code",
      "metadata": {
        "id": "jsr3V-foe_4-",
        "colab_type": "code",
        "colab": {}
      },
      "source": [
        "#Funciton that eveluates and generates the text\n",
        "def generate_text(model,start_string):\n",
        "  num_generate=800 #Num of charaters to be generated\n",
        "  #Vectorizing our Start String\n",
        "  input_eval=[char2idx[s] for s in start_string]\n",
        "  input_eval=tf.expand_dims(input_eval,0)\n",
        "\n",
        "  #Empty string to store the results\n",
        "  text_generated=[]\n",
        "  #Use a temperature for prediction, the higher the less predictible it becomes\n",
        "  temperature=1.0\n",
        "  #Use a model resetin funtion for each Batch size==1\n",
        "  model.reset_states()\n",
        "  for i in range(num_generate):\n",
        "    predictions= model(input_eval)\n",
        "    #Remove bathc dimentions\n",
        "    predictions=tf.squeeze(predictions,0)\n",
        "    #Using a categorical distribution to predict the character returned by the model\n",
        "    predictions=predictions/temperature\n",
        "    predicted_id=tf.random.categorical(predictions,num_samples=1)[-1,0].numpy()\n",
        "    #We pass the predicted character as the next input to model\n",
        "    #along with the previous hidden states\n",
        "    input_eval=tf.expand_dims([predicted_id],0)\n",
        "    text_generated.append(idx2char[predicted_id])\n",
        "  \n",
        "  return(start_string+''.join(text_generated))#Returned text Generated by the ML"
      ],
      "execution_count": 0,
      "outputs": []
    },
    {
      "cell_type": "code",
      "metadata": {
        "id": "zJmFXfaPhtRp",
        "colab_type": "code",
        "outputId": "b688b4ac-0958-4078-dc5c-0fc229a9393b",
        "colab": {
          "base_uri": "https://localhost:8080/",
          "height": 683
        }
      },
      "source": [
        "  inp=input(\"type a Start String\")\n",
        "  print(generate_text(model,inp))"
      ],
      "execution_count": 0,
      "outputs": [
        {
          "output_type": "stream",
          "text": [
            "type a Start StringJulliet\n",
            "Julliet.\n",
            "\n",
            "DUKE VINCENTIO:\n",
            "It is true fast?\n",
            "\n",
            "POMPEY:\n",
            "Why, who, sir, that?\n",
            "\n",
            "Nurse:\n",
            "Fie't not what I bear king, bid me wear ordarence?\n",
            "Then let that speak not on thy breath,\n",
            "Have hat hid moved and rotten for her;\n",
            "And so are we then, dran matist; what swords he stands,\n",
            "Though Pesur, and myself are surfer,\n",
            "And I, that sleewest fld to the word:\n",
            "Even we as gold and feed, the blows with weed\n",
            "My labris argue to sea that thou comest.\n",
            "\n",
            "BIONDELO:\n",
            "She is to you at home:\n",
            "Pass not worthy As our were.\n",
            "\n",
            "PETRUCHIO:\n",
            "Villain, what blood of eart?\n",
            "\n",
            "SICINIUS:\n",
            "Assis the kend.\n",
            "\n",
            "GLOUCESTER:\n",
            "Yea, am I lord.\n",
            "\n",
            "First Servant:\n",
            "Whop our sister should he be loach'd;\n",
            "Which is no real that we are;\n",
            "For he is Norfolk's good: place sorrow in some several turn;\n",
            "Full ofth show me now, not with a groan:\n",
            "Master, hath sent for me homicati\n"
          ],
          "name": "stdout"
        }
      ]
    }
  ]
}